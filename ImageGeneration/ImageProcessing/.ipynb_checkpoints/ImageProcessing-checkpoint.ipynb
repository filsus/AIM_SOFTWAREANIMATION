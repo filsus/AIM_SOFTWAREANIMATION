{
 "cells": [
  {
   "cell_type": "markdown",
   "id": "0fba71b6",
   "metadata": {},
   "source": [
    "# Image Processing Example\n",
    "\n",
    "In this example we are going to use python to load in images and then process them.\n",
    "\n",
    "But first to put an image in markdown we use ```![](filename)```\n",
    "\n",
    "This is the image I am going to process\n",
    "\n",
    "![image not found](image.0000.png)"
   ]
  },
  {
   "cell_type": "code",
   "execution_count": 14,
   "id": "08423941",
   "metadata": {},
   "outputs": [],
   "source": [
    "import Image\n"
   ]
  },
  {
   "cell_type": "markdown",
   "id": "f5cb4a46",
   "metadata": {},
   "source": [
    "Now I have imported the module and use it to load an image"
   ]
  },
  {
   "cell_type": "code",
   "execution_count": 21,
   "id": "e9bbe372",
   "metadata": {},
   "outputs": [
    {
     "name": "stdout",
     "output_type": "stream",
     "text": [
      "image.width=250,image.height=250\n"
     ]
    }
   ],
   "source": [
    "image = Image.Image(0,0)\n",
    "image.load(\"image.0000.png\")\n",
    "print(f\"{image.width=},{image.height=}\")"
   ]
  },
  {
   "cell_type": "code",
   "execution_count": null,
   "id": "f4f4df61",
   "metadata": {},
   "outputs": [],
   "source": []
  }
 ],
 "metadata": {
  "kernelspec": {
   "display_name": "Python 3 (ipykernel)",
   "language": "python",
   "name": "python3"
  },
  "language_info": {
   "codemirror_mode": {
    "name": "ipython",
    "version": 3
   },
   "file_extension": ".py",
   "mimetype": "text/x-python",
   "name": "python",
   "nbconvert_exporter": "python",
   "pygments_lexer": "ipython3",
   "version": "3.9.12"
  }
 },
 "nbformat": 4,
 "nbformat_minor": 5
}
