{
 "cells": [
  {
   "cell_type": "markdown",
   "id": "4d2c698f",
   "metadata": {},
   "source": [
    "# 1. Numpy \n",
    "Numpy is a powerful Python module that should be in the toolbelt of any AI/Deep learning practitioner. It provides functions and data structures that allow fast, efficient manipulation of mathematical structures like matrices and vectors. It represents these structures internally using Numpy arrays, which are like Python Lists, but highly optimised for calculations on large amounts of numerical data. Let's import this module now."
   ]
  },
  {
   "cell_type": "markdown",
   "id": "fe0a2fda",
   "metadata": {},
   "source": [
    "### 1.1.1 Array creation\n",
    "Numpy arrays can be created in a few different ways. Common ones are:\n",
    "1. Instantiated using values from a normal Python list\n",
    "2. Filled with sequential values upto a target number\n",
    "3. Filled with a specific value\n",
    "4. Filled with random values (various random distributions available) - see https://numpy.org/doc/stable/reference/random/index.html\n",
    "\n",
    "For a full list of array creation routines, please see: https://numpy.org/doc/stable/reference/routines.array-creation.html\n"
   ]
  },
  {
   "cell_type": "code",
   "execution_count": 1,
   "id": "a352c02e",
   "metadata": {},
   "outputs": [],
   "source": [
    "import numpy as np"
   ]
  },
  {
   "cell_type": "code",
   "execution_count": 9,
   "id": "cc36ef32",
   "metadata": {},
   "outputs": [
    {
     "data": {
      "text/plain": [
       "array([   2,    4,    8,   16,   32,   64,  128,  256,  512, 1024])"
      ]
     },
     "execution_count": 9,
     "metadata": {},
     "output_type": "execute_result"
    }
   ],
   "source": [
    "#Array creation from python list\n",
    "python_list = [2,4,8,16,32,64,128,256,512,1024]\n",
    "np_from_list = np.array(python_list)\n",
    "np_from_list"
   ]
  },
  {
   "cell_type": "code",
   "execution_count": 10,
   "id": "0ccacf1d",
   "metadata": {},
   "outputs": [
    {
     "data": {
      "text/plain": [
       "array([ 0,  1,  2,  3,  4,  5,  6,  7,  8,  9, 10, 11, 12, 13, 14, 15, 16,\n",
       "       17, 18, 19])"
      ]
     },
     "execution_count": 10,
     "metadata": {},
     "output_type": "execute_result"
    }
   ],
   "source": [
    "#Array creation with sequential values \n",
    "seq_array = np.arange(20)\n",
    "seq_array"
   ]
  },
  {
   "cell_type": "code",
   "execution_count": 12,
   "id": "3b4a7775",
   "metadata": {},
   "outputs": [
    {
     "data": {
      "text/plain": [
       "array([0.81324794, 0.14874086, 0.72089389, 0.19905638, 0.37471014,\n",
       "       0.17714186, 0.41177176, 0.32313559, 0.71371908, 0.36541842])"
      ]
     },
     "execution_count": 12,
     "metadata": {},
     "output_type": "execute_result"
    }
   ],
   "source": [
    "#Array creation with random values\n",
    "random_array = np.random.rand(10)\n",
    "random_array"
   ]
  },
  {
   "cell_type": "code",
   "execution_count": 16,
   "id": "68a1cf04",
   "metadata": {},
   "outputs": [
    {
     "data": {
      "text/plain": [
       "array([256, 256, 256, 256, 256, 256, 256, 256, 256, 256])"
      ]
     },
     "execution_count": 16,
     "metadata": {},
     "output_type": "execute_result"
    }
   ],
   "source": [
    "#Array filled with the same specific value\n",
    "filled_array = np.full(10,256)\n",
    "filled_array"
   ]
  },
  {
   "cell_type": "markdown",
   "id": "e92f617f",
   "metadata": {},
   "source": [
    "### 1.1.2 Reshaping arrays\n",
    "\n",
    "One of the many things that set Numpy arrays apart from Python lists is their `reshape` method. This allows you to define the number of dimensions that the structure represented by the array has. For example, the array `np_from_list` that we have just defined is just a flat list of numbers at the moment. `reshape` helps us represent it as a 2D data structure (a matrix). Keep in mind that the shape that you put into this method must agree with the number of elements in the array. In our example, the array has 10 elements, so acceptable shapes include:\n",
    "* 5, 2\n",
    "* 2, 5\n",
    "* 1, 10\n",
    "* 10, 1"
   ]
  },
  {
   "cell_type": "code",
   "execution_count": null,
   "id": "5b7ecc7c",
   "metadata": {},
   "outputs": [],
   "source": [
    "# You can also pass a desired shape into the array creation function to instantiate\n",
    "# an array with a pre-defined shape\n"
   ]
  },
  {
   "cell_type": "code",
   "execution_count": 19,
   "id": "ee771633",
   "metadata": {},
   "outputs": [
    {
     "data": {
      "text/plain": [
       "array([[   2,    4],\n",
       "       [   8,   16],\n",
       "       [  32,   64],\n",
       "       [ 128,  256],\n",
       "       [ 512, 1024]])"
      ]
     },
     "execution_count": 19,
     "metadata": {},
     "output_type": "execute_result"
    }
   ],
   "source": [
    "matrix_5_2 = np_from_list.reshape(5,2)\n",
    "matrix_5_2"
   ]
  },
  {
   "cell_type": "code",
   "execution_count": 20,
   "id": "36c431dc",
   "metadata": {},
   "outputs": [
    {
     "data": {
      "text/plain": [
       "array([[ 0,  1,  2,  3,  4,  5,  6,  7,  8,  9],\n",
       "       [10, 11, 12, 13, 14, 15, 16, 17, 18, 19]])"
      ]
     },
     "execution_count": 20,
     "metadata": {},
     "output_type": "execute_result"
    }
   ],
   "source": [
    "matrix_2_10 = seq_array.reshape(2,10)\n",
    "matrix_2_10"
   ]
  },
  {
   "cell_type": "markdown",
   "id": "e5f458bc",
   "metadata": {},
   "source": [
    "### 1.1.3 Exercises"
   ]
  },
  {
   "cell_type": "code",
   "execution_count": 25,
   "id": "f97ac428",
   "metadata": {},
   "outputs": [
    {
     "name": "stdout",
     "output_type": "stream",
     "text": [
      "[ 0  1  2  3  4  5  6  7  8  9 10 11 12 13 14 15 16 17 18 19 20 21 22 23\n",
      " 24 25 26 27 28 29 30 31]\n"
     ]
    }
   ],
   "source": [
    "# Create a Numpy array A that contains the integers from 0 - 31 (32 elements long)\n",
    "A = np.arange(32)\n",
    "print(A)"
   ]
  },
  {
   "cell_type": "code",
   "execution_count": 26,
   "id": "4c06fa53",
   "metadata": {},
   "outputs": [
    {
     "name": "stdout",
     "output_type": "stream",
     "text": [
      "[0.22533395 0.99527295 0.45552641 0.13903584 0.83084908 0.66929342\n",
      " 0.93499117 0.69092753 0.73382683 0.87674888 0.5156214  0.1675312 ]\n"
     ]
    }
   ],
   "source": [
    "# Create a Numpy array B that contains 12 random numbers between 0 and 1\n",
    "B = np.random.rand(12)\n",
    "print(B)"
   ]
  },
  {
   "cell_type": "code",
   "execution_count": 27,
   "id": "b5ad76b4",
   "metadata": {},
   "outputs": [
    {
     "name": "stdout",
     "output_type": "stream",
     "text": [
      "[[ 0  1  2  3]\n",
      " [ 4  5  6  7]\n",
      " [ 8  9 10 11]\n",
      " [12 13 14 15]\n",
      " [16 17 18 19]\n",
      " [20 21 22 23]\n",
      " [24 25 26 27]\n",
      " [28 29 30 31]]\n"
     ]
    }
   ],
   "source": [
    "# Turn A into a 2d matrix of shape (8, 4) - 8 rows, 4 columns\n",
    "A = A.reshape(8,4)\n",
    "print(A)"
   ]
  },
  {
   "cell_type": "code",
   "execution_count": 28,
   "id": "f28e3f39",
   "metadata": {},
   "outputs": [
    {
     "name": "stdout",
     "output_type": "stream",
     "text": [
      "[[0.22533395 0.99527295 0.45552641]\n",
      " [0.13903584 0.83084908 0.66929342]\n",
      " [0.93499117 0.69092753 0.73382683]\n",
      " [0.87674888 0.5156214  0.1675312 ]]\n"
     ]
    }
   ],
   "source": [
    "# Turn B into a 2d matrix of shape (4, 3)\n",
    "B = B.reshape(4,3)\n",
    "print(B)"
   ]
  },
  {
   "cell_type": "markdown",
   "id": "e3e3ea19",
   "metadata": {},
   "source": [
    "## 1.2 Array operations\n",
    "Once you have created an array, there are various operations you may want to perform on them. We'll go through some of the most common ones in the next few cells.\n",
    "\n",
    "### 1.2.1 Binary operators\n",
    "Similar to normal counting numbers, Numpy arrays can be used as arguments to binary arithmetic operators like `*` (multiplication), `+` (addition), `-`(subtraction) and `/`(division). However, these can only be applied to arrays under certain conditions:\n",
    "1. The arrays have the same shape, OR\n",
    "2. The operation is between an array and a scalar, OR\n",
    "3. The operations is between 2 arrays of different shapes that can be \"broadcast\" together - more on this later\n",
    "\n",
    "These operations are applied **element-wise** meaning each element in the array is combined with its corresponding element at the same position in the other array"
   ]
  },
  {
   "cell_type": "code",
   "execution_count": 29,
   "id": "d630c356",
   "metadata": {},
   "outputs": [
    {
     "data": {
      "text/plain": [
       "array([   4,    6,   10,   18,   34,   66,  130,  258,  514, 1026])"
      ]
     },
     "execution_count": 29,
     "metadata": {},
     "output_type": "execute_result"
    }
   ],
   "source": [
    "# Addition with a scalar\n",
    "add = np_from_list + 2\n",
    "add\n"
   ]
  },
  {
   "cell_type": "code",
   "execution_count": 31,
   "id": "b729a52e",
   "metadata": {},
   "outputs": [
    {
     "data": {
      "text/plain": [
       "array([0, 0, 0, 0, 0, 0, 0, 0, 0, 0])"
      ]
     },
     "execution_count": 31,
     "metadata": {},
     "output_type": "execute_result"
    }
   ],
   "source": [
    "# Subtraction with another array of same shape\n",
    "array_A = np.arange(10)\n",
    "array_B = np.arange(10)\n",
    "substract = array_A - array_B\n",
    "substract\n"
   ]
  },
  {
   "cell_type": "code",
   "execution_count": 32,
   "id": "d3454d04",
   "metadata": {},
   "outputs": [
    {
     "data": {
      "text/plain": [
       "array([ 0,  1,  4,  9, 16, 25, 36, 49, 64, 81])"
      ]
     },
     "execution_count": 32,
     "metadata": {},
     "output_type": "execute_result"
    }
   ],
   "source": [
    "# Multiplication with another array of same shape\n",
    "mult = array_A * array_B\n",
    "mult\n"
   ]
  },
  {
   "cell_type": "code",
   "execution_count": 33,
   "id": "9ae00ef0",
   "metadata": {},
   "outputs": [
    {
     "data": {
      "text/plain": [
       "array([  1.,   2.,   4.,   8.,  16.,  32.,  64., 128., 256., 512.])"
      ]
     },
     "execution_count": 33,
     "metadata": {},
     "output_type": "execute_result"
    }
   ],
   "source": [
    "# Division by a scalar\n",
    "dev = np_from_list /2\n",
    "dev\n"
   ]
  },
  {
   "cell_type": "markdown",
   "id": "2e285677",
   "metadata": {},
   "source": [
    "### 1.2.2 Broadcasting\n",
    "As long as an array's dimensions are compatible with their counterparts in the other array, they can be \"broadcasted\" together. This means that numpy will 'stretch' the smaller dimension along its axis so that element-wise operations can be applied between them. In general, 2 arrays can be broadcast together if each dimension in one array is compatible with its counterpart in the other array. Dimensions are compatible if they are equal or one of them is equal to 1. The dimension of size 1 is expanded to fit the size of its counterpart [https://numpy.org/doc/stable/user/basics.broadcasting.html]"
   ]
  },
  {
   "cell_type": "code",
   "execution_count": null,
   "id": "8af7f502",
   "metadata": {},
   "outputs": [],
   "source": [
    "# Similarly, we can also broadcast an array of shape (1, 2) along B's vertical axis\n",
    "\n"
   ]
  },
  {
   "cell_type": "markdown",
   "id": "5cfde7f5",
   "metadata": {},
   "source": [
    "### 1.2.3 Array products\n",
    "Contrary to the `*` operator, which performs element-wise multiplication between the arrays, `np.matmul` is the matrix product of the arrays."
   ]
  },
  {
   "cell_type": "code",
   "execution_count": 34,
   "id": "4a8b3147",
   "metadata": {},
   "outputs": [
    {
     "data": {
      "text/plain": [
       "285"
      ]
     },
     "execution_count": 34,
     "metadata": {},
     "output_type": "execute_result"
    }
   ],
   "source": [
    "dot = np.matmul(array_A, array_B)\n",
    "dot"
   ]
  },
  {
   "cell_type": "markdown",
   "id": "f70b44ed",
   "metadata": {},
   "source": [
    "### 1.2.4 Exercises"
   ]
  },
  {
   "cell_type": "code",
   "execution_count": 35,
   "id": "9db105a1",
   "metadata": {},
   "outputs": [
    {
     "name": "stdout",
     "output_type": "stream",
     "text": [
      "[0.  0.4 0.8 1.2 1.6 2.  2.4 2.8 3.2 3.6]\n"
     ]
    }
   ],
   "source": [
    "# Divide your array B by the number 2.5. Store the result in a variable C\n",
    "C = array_B /2.5\n",
    "print(C)"
   ]
  },
  {
   "cell_type": "code",
   "execution_count": 37,
   "id": "69a4a760",
   "metadata": {},
   "outputs": [
    {
     "name": "stdout",
     "output_type": "stream",
     "text": [
      "[-1 -1 -1 -1 -1 -1 -1 -1 -1 -1]\n"
     ]
    }
   ],
   "source": [
    "# Create a new array filled with -1. The array must have the same shape as B. Store the result in a variable D\n",
    "D = np.full(len(array_B),-1)\n",
    "print(D)"
   ]
  },
  {
   "cell_type": "code",
   "execution_count": 38,
   "id": "27789dc5",
   "metadata": {},
   "outputs": [
    {
     "name": "stdout",
     "output_type": "stream",
     "text": [
      "[ 0 -1 -2 -3 -4 -5 -6 -7 -8 -9]\n"
     ]
    }
   ],
   "source": [
    "# Multiply this new array ELEMENT-WISE with B and store the result in a variable called E.\n",
    "E = D * array_B\n",
    "print(E)"
   ]
  },
  {
   "cell_type": "code",
   "execution_count": 62,
   "id": "9e7d9a92",
   "metadata": {},
   "outputs": [
    {
     "name": "stdout",
     "output_type": "stream",
     "text": [
      "[[0 1]\n",
      " [2 3]]\n"
     ]
    }
   ],
   "source": [
    "# Consider the intermediate array below. \n",
    "intermediate_arr = np.arange(4).reshape(2, 2)\n",
    "print(intermediate_arr)"
   ]
  },
  {
   "cell_type": "code",
   "execution_count": 74,
   "id": "bf5bb2bd",
   "metadata": {},
   "outputs": [
    {
     "name": "stdout",
     "output_type": "stream",
     "text": [
      "[[0 1]\n",
      " [0 3]]\n"
     ]
    }
   ],
   "source": [
    "# Try and multiply it with D element-wise. What happens? What could \n",
    "# you do to make this multiplication work? (hint: try and make\n",
    "# the intermediate array broadcastable to C)\n",
    "F = np.arange(2) * intermediate_arr\n",
    "print(F)"
   ]
  },
  {
   "cell_type": "markdown",
   "id": "5f4be63d",
   "metadata": {},
   "source": [
    "## 1.3 Functions\n",
    "Another useful thing we might want to do with an array is to apply a function to each element. Generally speaking, it is best to use the built-in Numpy functions to work on numpy arrays instead of defining your own. This is because Numpy functions are highly optimised for speed, which is important when working with large amounts of data. Chances are, whatever kind of mathematical operation you want to perform on a Numpy array is already built in. See below for a full list:  \n",
    "https://numpy.org/doc/stable/reference/routines.math.html  \n",
    "\n",
    "### 1.3.1 Element-wise functions\n",
    "Common uses are applying trig functions to an array of values:"
   ]
  },
  {
   "cell_type": "code",
   "execution_count": 127,
   "id": "0d99a1ba",
   "metadata": {},
   "outputs": [
    {
     "data": {
      "image/png": "[encoded data removed]",
      "text/plain": [
       "<Figure size 350x350 with 1 Axes>"
      ]
     },
     "metadata": {},
     "output_type": "display_data"
    }
   ],
   "source": [
    "import matplotlib.pyplot as plt\n",
    "\n",
    "def simple_plot(x, y, label):\n",
    "    plt.plot(x, y)\n",
    "    plt.suptitle(label)\n",
    "    plt.show()\n",
    "\n",
    "    \n",
    "\n",
    "# Element-wise functions:\n",
    "x = np.arange(10).reshape(5,2)\n",
    "y = np.exp(x)\n",
    "simple_plot(np.sin(x),np.cos(y), \"\")\n"
   ]
  },
  {
   "cell_type": "markdown",
   "id": "abc97f70",
   "metadata": {},
   "source": [
    "### 1.3.2 Reduce functions\n",
    "These are applied along the selected axis, consume all the elements and reduce the axis down to 1 element. If no axis is specified, the function is applied to the whole array, and reduces it to a scalar"
   ]
  },
  {
   "cell_type": "code",
   "execution_count": 96,
   "id": "5d79e457",
   "metadata": {},
   "outputs": [
    {
     "name": "stdout",
     "output_type": "stream",
     "text": [
      "0.9893582466233818\n",
      "0.195520948210738\n",
      "-0.9589242746631385\n"
     ]
    }
   ],
   "source": [
    "# Max, mean minimun functions:\n",
    "max = np.max(np.sin(x))\n",
    "print(max)\n",
    "mean = np.mean(np.sin(x))\n",
    "print(mean)\n",
    "min = np.min(np.sin(x))\n",
    "print(min)\n"
   ]
  },
  {
   "cell_type": "markdown",
   "id": "c796c03c",
   "metadata": {},
   "source": [
    "### 1.3.3 Exercises\n"
   ]
  },
  {
   "cell_type": "code",
   "execution_count": 83,
   "id": "bfef5c5f",
   "metadata": {},
   "outputs": [
    {
     "name": "stdout",
     "output_type": "stream",
     "text": [
      "[ 2.44929360e-16  9.98334166e-02  1.98669331e-01  2.95520207e-01\n",
      "  3.89418342e-01  4.79425539e-01  5.64642473e-01  6.44217687e-01\n",
      "  7.17356091e-01  7.83326910e-01  8.41470985e-01  8.91207360e-01\n",
      "  9.32039086e-01  9.63558185e-01  9.85449730e-01  9.97494987e-01\n",
      "  9.99573603e-01  9.91664810e-01  9.73847631e-01  9.46300088e-01\n",
      "  9.09297427e-01  8.63209367e-01  8.08496404e-01  7.45705212e-01\n",
      "  6.75463181e-01  5.98472144e-01  5.15501372e-01  4.27379880e-01\n",
      "  3.34988150e-01  2.39249329e-01  1.41120008e-01  4.15806624e-02\n",
      " -5.83741434e-02 -1.57745694e-01 -2.55541102e-01 -3.50783228e-01\n",
      " -4.42520443e-01 -5.29836141e-01 -6.11857891e-01 -6.87766159e-01\n",
      " -7.56802495e-01 -8.18277111e-01 -8.71575772e-01 -9.16165937e-01\n",
      " -9.51602074e-01 -9.77530118e-01 -9.93691004e-01 -9.99923258e-01\n",
      " -9.96164609e-01 -9.82452613e-01 -9.58924275e-01 -9.25814682e-01\n",
      " -8.83454656e-01 -8.32267442e-01 -7.72764488e-01 -7.05540326e-01\n",
      " -6.31266638e-01 -5.50685543e-01 -4.64602179e-01 -3.73876665e-01\n",
      " -2.79415498e-01 -1.82162504e-01 -8.30894028e-02  1.68139005e-02\n",
      "  1.16549205e-01  2.15119988e-01  3.11541364e-01  4.04849921e-01\n",
      "  4.94113351e-01  5.78439764e-01  6.56986599e-01  7.28969040e-01\n",
      "  7.93667864e-01  8.50436621e-01  8.98708096e-01  9.37999977e-01\n",
      "  9.67919672e-01  9.88168234e-01  9.98543345e-01  9.98941342e-01\n",
      "  9.89358247e-01  9.69889811e-01  9.40730557e-01  9.02171834e-01\n",
      "  8.54598908e-01  7.98487113e-01  7.34397098e-01  6.62969230e-01\n",
      "  5.84917193e-01  5.01020856e-01  4.12118485e-01  3.19098362e-01\n",
      "  2.22889914e-01  1.24454424e-01  2.47754255e-02 -7.51511205e-02\n",
      " -1.74326781e-01 -2.71760626e-01 -3.66479129e-01 -4.57535894e-01\n",
      " -5.44021111e-01 -6.25070649e-01 -6.99874688e-01 -7.67685810e-01\n",
      " -8.27826469e-01 -8.79695760e-01 -9.22775422e-01 -9.56635016e-01\n",
      " -9.80936230e-01 -9.95436253e-01 -9.99990207e-01 -9.94552588e-01\n",
      " -9.79177729e-01 -9.54019250e-01 -9.19328526e-01 -8.75452175e-01\n",
      " -8.22828595e-01 -7.61983584e-01 -6.93525085e-01 -6.18137112e-01\n",
      " -5.36572918e-01 -4.49647465e-01 -3.58229282e-01 -2.63231791e-01\n",
      " -1.65604175e-01 -6.63218974e-02]\n"
     ]
    }
   ],
   "source": [
    "# Have a look at the trigonometric functions listed in the official numpy documentation: \n",
    "# https://numpy.org/doc/stable/reference/routines.math.html\n",
    "# Pick any element-wise function that takes 1 numpy array as an argument and apply it to the following\n",
    "# array. store the result in a variable called Ys\n",
    "Xs = np.arange(-2*np.pi, 2*np.pi, 0.1)\n",
    "Ys = np.sin(Xs)\n",
    "print(Ys)"
   ]
  },
  {
   "cell_type": "code",
   "execution_count": 91,
   "id": "0158d8c2",
   "metadata": {},
   "outputs": [
    {
     "data": {
      "image/png": "[encoded data removed]",
      "text/plain": [
       "<Figure size 640x480 with 1 Axes>"
      ]
     },
     "metadata": {},
     "output_type": "display_data"
    }
   ],
   "source": [
    "# Call our previously-defined simple plot function and display your result! Give the plot a suitable title\n",
    "simple_plot(Xs,Ys,\"\")"
   ]
  },
  {
   "cell_type": "code",
   "execution_count": 89,
   "id": "cb7444e7",
   "metadata": {},
   "outputs": [
    {
     "name": "stdout",
     "output_type": "stream",
     "text": [
      "0.9995736030415053\n"
     ]
    }
   ],
   "source": [
    "# Use a suitable Numpy reduce function to find the maximum value of your function's result\n",
    "max_val = np.amax(Ys)\n",
    "print(max_val)"
   ]
  },
  {
   "cell_type": "markdown",
   "id": "bd2d92ce",
   "metadata": {},
   "source": [
    "## 1.4 numpy.where\n",
    "This allows us to conditionally modify the elements of an array, which can be useful for tasks like thresholding or masking."
   ]
  },
  {
   "cell_type": "code",
   "execution_count": 97,
   "id": "25e1bea8",
   "metadata": {},
   "outputs": [
    {
     "data": {
      "text/plain": [
       "(array([  0,   1,   2,   3,   4,   5,   6,   7,   8,   9,  10,  11,  12,\n",
       "         13,  14,  15,  16,  17,  18,  19,  20,  21,  22,  23,  24,  25,\n",
       "         26,  27,  28,  29,  30,  31,  32,  33,  34,  35,  36,  37,  38,\n",
       "         39,  40,  41,  42,  43,  44,  45,  46,  47,  48,  49,  50,  51,\n",
       "         52,  53,  54,  55,  56,  57,  58,  59,  60,  61,  62,  63,  64,\n",
       "         65,  66,  67,  68,  69,  70,  71,  72,  73,  74,  75,  76,  77,\n",
       "         78,  79,  80,  81,  82,  83,  84,  85,  86,  87,  88,  89,  90,\n",
       "         91,  92,  93,  94,  95,  96,  97,  98,  99, 100, 101, 102, 103,\n",
       "        104, 105, 106, 107, 108, 109, 110, 111, 112, 113, 114, 115, 116,\n",
       "        117, 118, 119, 120, 121, 122, 123, 124, 125]),)"
      ]
     },
     "execution_count": 97,
     "metadata": {},
     "output_type": "execute_result"
    }
   ],
   "source": [
    "where = np.where(Ys)\n",
    "where"
   ]
  },
  {
   "cell_type": "markdown",
   "id": "21cba204",
   "metadata": {},
   "source": [
    "### 1.4.1 Exercises\n"
   ]
  },
  {
   "cell_type": "code",
   "execution_count": 98,
   "id": "b0c50f34",
   "metadata": {},
   "outputs": [
    {
     "name": "stdout",
     "output_type": "stream",
     "text": [
      "[[0.11792864 0.44203914 0.48957389 0.80310481 0.50684196]\n",
      " [0.70066211 0.84408195 0.29773903 0.21718655 0.82752325]\n",
      " [0.49411803 0.72515935 0.17006316 0.16299459 0.1073496 ]\n",
      " [0.62550548 0.63226431 0.26957481 0.24845223 0.11074751]\n",
      " [0.19035263 0.84766853 0.67004771 0.79097998 0.21142469]\n",
      " [0.7657622  0.14410634 0.72133833 0.74313895 0.81378755]\n",
      " [0.36485743 0.48621798 0.58290293 0.07834915 0.77211678]\n",
      " [0.3961669  0.75051706 0.78323473 0.09130258 0.90977081]\n",
      " [0.82924634 0.30321124 0.35966773 0.72709336 0.56655768]\n",
      " [0.83754397 0.68097231 0.5164179  0.97630188 0.4967143 ]]\n"
     ]
    }
   ],
   "source": [
    "# Create a Numpy array of shape (10, 5) and fill it with random values between 0 and 1. Store it in a variable called J\n",
    "J = np.random.rand(50).reshape(10,5)\n",
    "print(J)"
   ]
  },
  {
   "cell_type": "code",
   "execution_count": null,
   "id": "36292d54",
   "metadata": {},
   "outputs": [],
   "source": [
    "# Conditionally modify the array such that numbers below 0.5 are replaced with 0 and numbers above \n",
    "# or equal to 0.5 are replaced with 1. Store the result in a variable called K\n",
    "K = ...\n",
    "print(K)"
   ]
  },
  {
   "cell_type": "markdown",
   "id": "1e67bef4",
   "metadata": {},
   "source": [
    "## 1.5 Practical example\n",
    "\n",
    "Putting everything together for a practical example, and visulalise the output of some Numpy operations"
   ]
  },
  {
   "cell_type": "code",
   "execution_count": 99,
   "id": "053dfac8",
   "metadata": {},
   "outputs": [],
   "source": [
    "# Defining some helper functions\n",
    "def plot_point(point):\n",
    "    plt.rcParams[\"figure.figsize\"] = [3.50, 3.50]\n",
    "    plt.rcParams[\"figure.autolayout\"] = True\n",
    "    x = point[0]\n",
    "    y = point[1]\n",
    "    \n",
    "    lims = 3\n",
    "    fig = plt.figure()\n",
    "    ax = fig.add_subplot(111)\n",
    "    plt.xlim(-lims, lims)\n",
    "    plt.ylim(-lims, lims)\n",
    "    plt.grid()\n",
    "    ax.plot(x, y, marker=\"o\", markersize=7, markeredgecolor=\"black\", markerfacecolor=\"red\")\n",
    "    ax.spines['left'].set_position('zero')\n",
    "    ax.spines['right'].set_color('none')\n",
    "    ax.spines['bottom'].set_position('zero')\n",
    "    ax.spines['top'].set_color('none')\n",
    "    plt.show()\n",
    "\n",
    "\n",
    "\n",
    "# This function returns an np array that describes a 2d rotation \n",
    "# matrix [https://www1.udel.edu/biology/rosewc/kaap686/notes/matrices_rotations.pdf]. \n",
    "# These kinds of structures are often used in computer graphics to rotate and translate points in space\n",
    "def get_rot_clockwise_matrix(angle):\n",
    "    return np.array([\n",
    "        [ np.cos(angle), np.sin(angle)],\n",
    "        [-np.sin(angle), np.cos(angle)]\n",
    "    ])"
   ]
  },
  {
   "cell_type": "code",
   "execution_count": 118,
   "id": "e5bedc69",
   "metadata": {},
   "outputs": [
    {
     "name": "stdout",
     "output_type": "stream",
     "text": [
      "[0.14284114 0.51222331]\n"
     ]
    }
   ],
   "source": [
    "# Create a random 2-element array containing values from 0 - 1. Assign this array to a variable `p`\n",
    "p = np.random.rand(2)\n",
    "print(p)"
   ]
  },
  {
   "cell_type": "code",
   "execution_count": 119,
   "id": "d3454cb0",
   "metadata": {},
   "outputs": [
    {
     "name": "stdout",
     "output_type": "stream",
     "text": [
      "[0.28568228 1.02444661]\n"
     ]
    }
   ],
   "source": [
    "# Use scalar multiplication to double the value of the elements in `p`. Assign the result back to `p`\n",
    "p = p*2\n",
    "print(p)"
   ]
  },
  {
   "cell_type": "code",
   "execution_count": 120,
   "id": "00655ac8",
   "metadata": {},
   "outputs": [
    {
     "data": {
      "image/png": "[encoded data removed]",
      "text/plain": [
       "<Figure size 350x350 with 1 Axes>"
      ]
     },
     "metadata": {},
     "output_type": "display_data"
    }
   ],
   "source": [
    "# Reshape `p` to be (2, 1), assign the result to `p` and plot the point.\n",
    "p = p.reshape(2,1)\n",
    "plot_point(p)\n"
   ]
  },
  {
   "cell_type": "code",
   "execution_count": 121,
   "id": "1937533d",
   "metadata": {},
   "outputs": [
    {
     "name": "stdout",
     "output_type": "stream",
     "text": [
      "114.24189731101862\n"
     ]
    }
   ],
   "source": [
    "# We will now rotate this point about the origin of the plot using the funciton we defined above\n",
    "# This cell is just some setup for the rest of the exercise, just run it once\n",
    "min_angle = np.pi/2 # 90 degrees\n",
    "max_angle = np.pi   # 180 degrees\n",
    "angle = np.random.uniform(min_angle, max_angle) # get a random angle between 90 and 180 degrees\n",
    "print(np.degrees(angle)) # print the angle in degrees so we can check the rotation is correct!"
   ]
  },
  {
   "cell_type": "code",
   "execution_count": 122,
   "id": "0ea1d746",
   "metadata": {},
   "outputs": [],
   "source": [
    "# Call the previously-defined roation matrix function with the angle. Assign the result to \n",
    "# a variable called `rot90`\n",
    "rot90 = get_rot_clockwise_matrix(angle)\n"
   ]
  },
  {
   "cell_type": "code",
   "execution_count": 123,
   "id": "350ff0ba",
   "metadata": {},
   "outputs": [
    {
     "data": {
      "image/png": "[encoded data removed]",
      "text/plain": [
       "<Figure size 350x350 with 1 Axes>"
      ]
     },
     "metadata": {},
     "output_type": "display_data"
    }
   ],
   "source": [
    "# Apply a matrix multiplication operation between rot90 and p. assign the result back to p and plot it.\n",
    "p = p * rot90\n",
    "plot_point(p)\n"
   ]
  },
  {
   "cell_type": "code",
   "execution_count": 124,
   "id": "65e93aeb",
   "metadata": {},
   "outputs": [
    {
     "name": "stdout",
     "output_type": "stream",
     "text": [
      "[2 2]\n"
     ]
    }
   ],
   "source": [
    "# Create an array named `translation` which has the same shape as `p`, and fill it with 2's\n",
    "translation = np.full(2,2)\n",
    "print(translation)"
   ]
  },
  {
   "cell_type": "code",
   "execution_count": 125,
   "id": "0fff9269",
   "metadata": {},
   "outputs": [
    {
     "data": {
      "image/png": "[encoded data removed]",
      "text/plain": [
       "<Figure size 350x350 with 1 Axes>"
      ]
     },
     "metadata": {},
     "output_type": "display_data"
    }
   ],
   "source": [
    "# Add this result to p and plot it!\n",
    "p = p + translation\n",
    "plot_point(p)\n"
   ]
  },
  {
   "cell_type": "code",
   "execution_count": null,
   "id": "3963f2a0",
   "metadata": {},
   "outputs": [],
   "source": []
  },
  {
   "cell_type": "code",
   "execution_count": null,
   "id": "db068fbd",
   "metadata": {},
   "outputs": [],
   "source": []
  }
 ],
 "metadata": {
  "kernelspec": {
   "display_name": "Python 3 (ipykernel)",
   "language": "python",
   "name": "python3"
  },
  "language_info": {
   "codemirror_mode": {
    "name": "ipython",
    "version": 3
   },
   "file_extension": ".py",
   "mimetype": "text/x-python",
   "name": "python",
   "nbconvert_exporter": "python",
   "pygments_lexer": "ipython3",
   "version": "3.10.7"
  }
 },
 "nbformat": 4,
 "nbformat_minor": 5
}
